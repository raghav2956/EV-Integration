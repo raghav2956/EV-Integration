{
 "cells": [
  {
   "cell_type": "code",
   "execution_count": 1,
   "metadata": {},
   "outputs": [],
   "source": [
    "from flask import Flask, request, jsonify, redirect, url_for\n",
    "import smartcar\n",
    "import os"
   ]
  },
  {
   "cell_type": "code",
   "execution_count": 2,
   "metadata": {},
   "outputs": [],
   "source": [
    "CLIENT_ID = '016a2cf0-2d2b-4644-900e-bff74c4824b6'\n",
    "CLIENT_SECRET = 'e84702b4-b42a-4420-841f-ba68e2696c69'\n",
    "REDIRECT_URI = 'http://localhost:8000/callback'"
   ]
  },
  {
   "cell_type": "code",
   "execution_count": 3,
   "metadata": {},
   "outputs": [],
   "source": [
    "client = smartcar.AuthClient(\n",
    "  client_id=CLIENT_ID,\n",
    "  client_secret=CLIENT_SECRET,\n",
    "  redirect_uri=REDIRECT_URI,\n",
    "  mode='test'\n",
    ")"
   ]
  },
  {
   "cell_type": "code",
   "execution_count": 4,
   "metadata": {},
   "outputs": [
    {
     "data": {
      "text/plain": [
       "'https://connect.smartcar.com/oauth/authorize?response_type=code&client_id=016a2cf0-2d2b-4644-900e-bff74c4824b6&redirect_uri=http%3A%2F%2Flocalhost%3A8000%2Fcallback&approval_prompt=auto&scope=read_vehicle_info+read_odometer&mode=test'"
      ]
     },
     "execution_count": 4,
     "metadata": {},
     "output_type": "execute_result"
    }
   ],
   "source": [
    "scopes = ['read_vehicle_info', 'read_odometer']\n",
    "auth_url = client.get_auth_url(scopes)\n",
    "auth_url"
   ]
  },
  {
   "cell_type": "code",
   "execution_count": null,
   "metadata": {},
   "outputs": [],
   "source": [
    "access_object = client.exchange_code('67591bfa-123e-44f3-b239-c827e4db93d7')\n",
    "# access_object['access_token']\n",
    "access_object"
   ]
  },
  {
   "cell_type": "code",
   "execution_count": null,
   "metadata": {},
   "outputs": [],
   "source": [
    "def get_fresh_access(token):\n",
    "    # access = smartcar.load_access_from_database()\n",
    "    new_access = client.exchange_refresh_token(token)\n",
    "    # smartcar.put_access_into_database(new_access)\n",
    "    \n",
    "    return new_access\n",
    "\n",
    "\n",
    "fresh_access_token = get_fresh_access(access_object[4])\n",
    "fresh_access_token"
   ]
  },
  {
   "cell_type": "code",
   "execution_count": null,
   "metadata": {},
   "outputs": [],
   "source": [
    "vehicles = smartcar.get_vehicles(fresh_access_token[0])\n",
    "vehicle_id = vehicles.vehicles[0]    \n",
    "vehicle = smartcar.Vehicle(vehicle_id,fresh_access_token[0])\n",
    "\n",
    "odometer = vehicle.odometer()\n",
    "print(odometer.distance)\n",
    "\n",
    "# info = vehicle.info()\n",
    "# print(info.make)\n",
    "# print(info.model)\n",
    "\n",
    "batch = vehicle.batch(paths=['/location'])\n",
    "location = batch.location()\n",
    "print(location)\n",
    "\n"
   ]
  }
 ],
 "metadata": {
  "kernelspec": {
   "display_name": "Python 3",
   "language": "python",
   "name": "python3"
  },
  "language_info": {
   "codemirror_mode": {
    "name": "ipython",
    "version": 3
   },
   "file_extension": ".py",
   "mimetype": "text/x-python",
   "name": "python",
   "nbconvert_exporter": "python",
   "pygments_lexer": "ipython3",
   "version": "3.12.5"
  }
 },
 "nbformat": 4,
 "nbformat_minor": 2
}
