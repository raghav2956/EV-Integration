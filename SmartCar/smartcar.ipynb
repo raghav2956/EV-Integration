{
 "cells": [
  {
   "cell_type": "code",
   "execution_count": 45,
   "metadata": {},
   "outputs": [],
   "source": [
    "from flask import Flask, request, jsonify, redirect, url_for\n",
    "import smartcar\n",
    "import os"
   ]
  },
  {
   "cell_type": "code",
   "execution_count": 46,
   "metadata": {},
   "outputs": [],
   "source": [
    "CLIENT_ID = '016a2cf0-2d2b-4644-900e-bff74c4824b6'\n",
    "CLIENT_SECRET = 'e84702b4-b42a-4420-841f-ba68e2696c69'\n",
    "REDIRECT_URI = 'http://localhost:8000/callback'"
   ]
  },
  {
   "cell_type": "code",
   "execution_count": 47,
   "metadata": {},
   "outputs": [],
   "source": [
    "client = smartcar.AuthClient(\n",
    "  client_id=CLIENT_ID,\n",
    "  client_secret=CLIENT_SECRET,\n",
    "  redirect_uri=REDIRECT_URI,\n",
    "  mode='test'\n",
    ")"
   ]
  },
  {
   "cell_type": "code",
   "execution_count": 44,
   "metadata": {},
   "outputs": [
    {
     "data": {
      "text/plain": [
       "'https://connect.smartcar.com/oauth/authorize?response_type=code&client_id=016a2cf0-2d2b-4644-900e-bff74c4824b6&redirect_uri=http%3A%2F%2Flocalhost%3A8000%2Fcallback&approval_prompt=auto&scope=read_vehicle_info+read_location+read_odometer&mode=test'"
      ]
     },
     "execution_count": 44,
     "metadata": {},
     "output_type": "execute_result"
    }
   ],
   "source": [
    "scopes = ['read_vehicle_info', 'read_odometer']\n",
    "auth_url = client.get_auth_url(scopes)\n",
    "auth_url"
   ]
  },
  {
   "cell_type": "code",
   "execution_count": 28,
   "metadata": {},
   "outputs": [
    {
     "data": {
      "text/plain": [
       "Access(access_token='3cd1b49b-2ed1-4d20-b44d-91f3c4ead1b2', token_type='Bearer', expires_in=7200, expiration=datetime.datetime(2024, 8, 12, 14, 17, 8, 988012), refresh_token='b0d376a0-6be8-447e-ace9-b062c8f74086', refresh_expiration=datetime.datetime(2024, 10, 11, 12, 17, 8, 988012))"
      ]
     },
     "execution_count": 28,
     "metadata": {},
     "output_type": "execute_result"
    }
   ],
   "source": [
    "access_object = client.exchange_code('cca54f58-886e-4222-a2a8-b01dc64ab6fb')\n",
    "# access_object['access_token']\n",
    "access_object"
   ]
  },
  {
   "cell_type": "code",
   "execution_count": 32,
   "metadata": {},
   "outputs": [
    {
     "data": {
      "text/plain": [
       "Access(access_token='ef59102c-a461-4aaa-8a36-c754097fb38d', token_type='Bearer', expires_in=7200, expiration=datetime.datetime(2024, 8, 12, 14, 18, 33, 166870), refresh_token='f2b212cc-6f1e-403e-99e0-a9c087370f3b', refresh_expiration=datetime.datetime(2024, 10, 11, 12, 18, 33, 166870))"
      ]
     },
     "execution_count": 32,
     "metadata": {},
     "output_type": "execute_result"
    }
   ],
   "source": [
    "def get_fresh_access(token):\n",
    "    # access = smartcar.load_access_from_database()\n",
    "    new_access = client.exchange_refresh_token(token)\n",
    "    # smartcar.put_access_into_database(new_access)\n",
    "    \n",
    "    return new_access\n",
    "\n",
    "\n",
    "fresh_access_token = get_fresh_access(access_object[4])\n",
    "fresh_access_token"
   ]
  },
  {
   "cell_type": "code",
   "execution_count": 37,
   "metadata": {},
   "outputs": [
    {
     "name": "stdout",
     "output_type": "stream",
     "text": [
      "55043\n"
     ]
    },
    {
     "ename": "SmartcarException",
     "evalue": "PERMISSION - Your application has insufficient permissions to access the requested resource. Please prompt the user to re-authenticate using Smartcar Connect.",
     "output_type": "error",
     "traceback": [
      "\u001b[1;31m---------------------------------------------------------------------------\u001b[0m",
      "\u001b[1;31mSmartcarException\u001b[0m                         Traceback (most recent call last)",
      "Cell \u001b[1;32mIn[37], line 13\u001b[0m\n\u001b[0;32m      8\u001b[0m \u001b[38;5;66;03m# info = vehicle.info()\u001b[39;00m\n\u001b[0;32m      9\u001b[0m \u001b[38;5;66;03m# print(info.make)\u001b[39;00m\n\u001b[0;32m     10\u001b[0m \u001b[38;5;66;03m# print(info.model)\u001b[39;00m\n\u001b[0;32m     12\u001b[0m batch \u001b[38;5;241m=\u001b[39m vehicle\u001b[38;5;241m.\u001b[39mbatch(paths\u001b[38;5;241m=\u001b[39m[\u001b[38;5;124m'\u001b[39m\u001b[38;5;124m/location\u001b[39m\u001b[38;5;124m'\u001b[39m])\n\u001b[1;32m---> 13\u001b[0m location \u001b[38;5;241m=\u001b[39m \u001b[43mbatch\u001b[49m\u001b[38;5;241;43m.\u001b[39;49m\u001b[43mlocation\u001b[49m\u001b[43m(\u001b[49m\u001b[43m)\u001b[49m\n\u001b[0;32m     14\u001b[0m \u001b[38;5;28mprint\u001b[39m(location)\n",
      "File \u001b[1;32m~\\AppData\\Local\\Packages\\PythonSoftwareFoundation.Python.3.12_qbz5n2kfra8p0\\LocalCache\\local-packages\\Python312\\site-packages\\smartcar\\vehicle.py:457\u001b[0m, in \u001b[0;36mVehicle._batch_path_response.<locals>.<lambda>\u001b[1;34m(e)\u001b[0m\n\u001b[0;32m    453\u001b[0m path_body \u001b[38;5;241m=\u001b[39m json\u001b[38;5;241m.\u001b[39mdumps(path_response\u001b[38;5;241m.\u001b[39mget(\u001b[38;5;124m\"\u001b[39m\u001b[38;5;124mbody\u001b[39m\u001b[38;5;124m\"\u001b[39m))\n\u001b[0;32m    454\u001b[0m sc_exception \u001b[38;5;241m=\u001b[39m sce\u001b[38;5;241m.\u001b[39mexception_factory(\n\u001b[0;32m    455\u001b[0m     path_status_code, path_headers, path_body, \u001b[38;5;28;01mFalse\u001b[39;00m\n\u001b[0;32m    456\u001b[0m )\n\u001b[1;32m--> 457\u001b[0m \u001b[38;5;28;01mreturn\u001b[39;00m \u001b[38;5;28;01mlambda\u001b[39;00m e\u001b[38;5;241m=\u001b[39msc_exception: \u001b[43m_attribute_raise_exception\u001b[49m\u001b[43m(\u001b[49m\u001b[43me\u001b[49m\u001b[43m)\u001b[49m\n",
      "File \u001b[1;32m~\\AppData\\Local\\Packages\\PythonSoftwareFoundation.Python.3.12_qbz5n2kfra8p0\\LocalCache\\local-packages\\Python312\\site-packages\\smartcar\\vehicle.py:449\u001b[0m, in \u001b[0;36mVehicle._batch_path_response.<locals>._attribute_raise_exception\u001b[1;34m(smartcar_exception)\u001b[0m\n\u001b[0;32m    448\u001b[0m \u001b[38;5;28;01mdef\u001b[39;00m \u001b[38;5;21m_attribute_raise_exception\u001b[39m(smartcar_exception):\n\u001b[1;32m--> 449\u001b[0m     \u001b[38;5;28;01mraise\u001b[39;00m smartcar_exception\n",
      "\u001b[1;31mSmartcarException\u001b[0m: PERMISSION - Your application has insufficient permissions to access the requested resource. Please prompt the user to re-authenticate using Smartcar Connect."
     ]
    }
   ],
   "source": [
    "vehicles = smartcar.get_vehicles(fresh_access_token[0])\n",
    "vehicle_id = vehicles.vehicles[0]    \n",
    "vehicle = smartcar.Vehicle(vehicle_id,fresh_access_token[0])\n",
    "\n",
    "odometer = vehicle.odometer()\n",
    "print(odometer.distance)\n",
    "\n",
    "# info = vehicle.info()\n",
    "# print(info.make)\n",
    "# print(info.model)\n",
    "\n",
    "batch = vehicle.batch(paths=['/location'])\n",
    "location = batch.location()\n",
    "print(location)\n",
    "\n"
   ]
  }
 ],
 "metadata": {
  "kernelspec": {
   "display_name": "Python 3",
   "language": "python",
   "name": "python3"
  },
  "language_info": {
   "codemirror_mode": {
    "name": "ipython",
    "version": 3
   },
   "file_extension": ".py",
   "mimetype": "text/x-python",
   "name": "python",
   "nbconvert_exporter": "python",
   "pygments_lexer": "ipython3",
   "version": "3.12.5"
  }
 },
 "nbformat": 4,
 "nbformat_minor": 2
}
